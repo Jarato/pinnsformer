{
 "cells": [
  {
   "cell_type": "code",
   "execution_count": 1,
   "metadata": {},
   "outputs": [],
   "source": [
    "from pinnsform import *\n",
    "from torchviz import make_dot\n",
    "from dataclasses import dataclass\n",
    "\n",
    "@dataclass\n",
    "class Mesh:\n",
    "    full : torch.Tensor\n",
    "    part : list\n",
    "\n",
    "def meshify(l, requires_grad = False):\n",
    "    parts = [torch.tensor(part, dtype=torch.float32, requires_grad = requires_grad) for part in np.array_split(np.array(list(product(*l))), 2, 1)]\n",
    "    full = torch.cat(parts, dim=1)\n",
    "    return Mesh(full, parts)\n",
    "\n",
    "def generate_mesh_object(point_counts, domain, requires_grad = True, skew = None):\n",
    "    if isinstance(point_counts, int):\n",
    "        point_counts = [point_counts]\n",
    "        domain = [domain]\n",
    "\n",
    "    full_list = [np.linspace(0, 1, count) for i, count in enumerate(point_counts)]\n",
    "    if skew:\n",
    "        full_list = [points ** skew[i] for i, points in enumerate(full_list)]\n",
    "    full_list = [domain[i][0] + (domain[i][1] - domain[i][0]) * points for i,points in enumerate(full_list)]\n",
    "\n",
    "    full_mesh = meshify(full_list, requires_grad)\n",
    "    \n",
    "    border_lists = [(copy(full_list), copy(full_list)) for _ in full_list]\n",
    "    for i, _ in enumerate(full_list):\n",
    "        border_lists[i][0][i] = [float(domain[i][0])]\n",
    "        border_lists[i][1][i] = [float(domain[i][1])]\n",
    "    border_meshes = [(meshify(border[0], requires_grad), meshify(border[1], requires_grad)) for border in border_lists]\n",
    "    \n",
    "    return full_mesh, border_meshes\n",
    "\n",
    "def f(model, mesh, of = None):\n",
    "    if isinstance(mesh, Mesh):\n",
    "        points = mesh.full\n",
    "    if of is not None:\n",
    "        return torch.split(model(points), 1, 1)[of]\n",
    "    return model(points)\n",
    "\n",
    "def df(model, mesh, of = 0, wrt = 0, order = 1):\n",
    "    df_of = f(model, mesh, of)\n",
    "    respect_to = mesh.part[wrt]\n",
    "    for _ in range(order):\n",
    "        df_of = torch.autograd.grad(\n",
    "            df_of,\n",
    "            respect_to,\n",
    "            grad_outputs=torch.ones_like(respect_to),\n",
    "            create_graph=True,\n",
    "            retain_graph=True,\n",
    "        )[0]\n",
    "    return df_of"
   ]
  },
  {
   "cell_type": "code",
   "execution_count": 9,
   "metadata": {},
   "outputs": [],
   "source": [
    "class BASE_MODEL(nn.Module):\n",
    "    def __init__(self):\n",
    "        super(BASE_MODEL, self).__init__()\n",
    "        self.layers = nn.Sequential(\n",
    "            nn.Linear(2, 10),\n",
    "            nn.Tanh(),\n",
    "            nn.Linear(10, 1)\n",
    "        )\n",
    "\n",
    "    def forward(self, x):\n",
    "        return self.layers(x)"
   ]
  },
  {
   "cell_type": "code",
   "execution_count": 16,
   "metadata": {},
   "outputs": [],
   "source": [
    "#with torch.no_grad():\n",
    "mesh, boundaries = generate_mesh_object((5,5), ((0,np.pi),(0,2)), requires_grad=True)"
   ]
  },
  {
   "cell_type": "code",
   "execution_count": 20,
   "metadata": {},
   "outputs": [
    {
     "data": {
      "text/plain": [
       "tensor([[0.0000, 0.0000],\n",
       "        [0.7854, 0.0000],\n",
       "        [1.5708, 0.0000],\n",
       "        [2.3562, 0.0000],\n",
       "        [3.1416, 0.0000]], grad_fn=<CatBackward0>)"
      ]
     },
     "execution_count": 20,
     "metadata": {},
     "output_type": "execute_result"
    }
   ],
   "source": [
    "boundaries[1][0].full"
   ]
  },
  {
   "cell_type": "code",
   "execution_count": 11,
   "metadata": {},
   "outputs": [],
   "source": [
    "model = BASE_MODEL()"
   ]
  },
  {
   "cell_type": "code",
   "execution_count": 13,
   "metadata": {},
   "outputs": [
    {
     "name": "stdout",
     "output_type": "stream",
     "text": [
      "tensor([[0.0210],\n",
      "        [0.0220],\n",
      "        [0.0232],\n",
      "        [0.0257],\n",
      "        [0.0301],\n",
      "        [0.0524],\n",
      "        [0.0480],\n",
      "        [0.0411],\n",
      "        [0.0342],\n",
      "        [0.0293],\n",
      "        [0.0796],\n",
      "        [0.0704],\n",
      "        [0.0570],\n",
      "        [0.0423],\n",
      "        [0.0297],\n",
      "        [0.0998],\n",
      "        [0.0873],\n",
      "        [0.0696],\n",
      "        [0.0498],\n",
      "        [0.0316],\n",
      "        [0.1115],\n",
      "        [0.0974],\n",
      "        [0.0779],\n",
      "        [0.0558],\n",
      "        [0.0345]], grad_fn=<SubBackward0>)\n"
     ]
    },
    {
     "data": {
      "text/plain": [
       "'computation_graph_residue.dot'"
      ]
     },
     "execution_count": 13,
     "metadata": {},
     "output_type": "execute_result"
    }
   ],
   "source": [
    "pde_residue = df(model, mesh, wrt=1, order=1) - 0.5*df(model, mesh, wrt=0, order=2)\n",
    "print(pde_residue)\n",
    "graph = make_dot(pde_residue)\n",
    "graph.save(f\"computation_graph_residue.dot\")"
   ]
  },
  {
   "cell_type": "code",
   "execution_count": null,
   "metadata": {},
   "outputs": [],
   "source": []
  }
 ],
 "metadata": {
  "kernelspec": {
   "display_name": "Python 3",
   "language": "python",
   "name": "python3"
  },
  "language_info": {
   "codemirror_mode": {
    "name": "ipython",
    "version": 3
   },
   "file_extension": ".py",
   "mimetype": "text/x-python",
   "name": "python",
   "nbconvert_exporter": "python",
   "pygments_lexer": "ipython3",
   "version": "3.9.2"
  }
 },
 "nbformat": 4,
 "nbformat_minor": 2
}
