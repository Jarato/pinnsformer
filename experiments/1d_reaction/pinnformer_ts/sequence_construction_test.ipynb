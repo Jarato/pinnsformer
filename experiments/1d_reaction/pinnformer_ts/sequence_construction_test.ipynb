{
 "cells": [
  {
   "cell_type": "code",
   "execution_count": 1,
   "metadata": {},
   "outputs": [],
   "source": [
    "from pinnsform import *"
   ]
  },
  {
   "cell_type": "code",
   "execution_count": 2,
   "metadata": {},
   "outputs": [],
   "source": [
    "res1, b_left1, b_right1, b_upper1, b_lower1 = get_data([0,2*np.pi], [0,1], 3, 3)\n",
    "\n",
    "res2 = make_time_sequence(res1, num_step=4, step=1e-3)\n",
    "b_left2 = make_time_sequence(b_left1, num_step=4, step=1e-3)\n",
    "b_right2 = make_time_sequence(b_right1, num_step=4, step=1e-3)\n",
    "b_upper2 = make_time_sequence(b_upper1, num_step=4, step=1e-3)\n",
    "b_lower2 = make_time_sequence(b_lower1, num_step=4, step=1e-3)\n",
    "\n",
    "#res = torch.tensor(res, dtype=torch.float32, requires_grad=True).to(device)\n",
    "#b_left = torch.tensor(b_left, dtype=torch.float32, requires_grad=True).to(device)\n",
    "#b_right = torch.tensor(b_right, dtype=torch.float32, requires_grad=True).to(device)\n",
    "#b_upper = torch.tensor(b_upper, dtype=torch.float32, requires_grad=True).to(device)\n",
    "#b_lower = torch.tensor(b_lower, dtype=torch.float32, requires_grad=True).to(device)\n",
    "\n",
    "x_res, t_res = res2[:,:,0:1], res2[:,:,1:2]\n",
    "x_left, t_left = b_left2[:,:,0:1], b_left2[:,:,1:2]\n",
    "x_right, t_right = b_right2[:,:,0:1], b_right2[:,:,1:2]\n",
    "x_upper, t_upper = b_upper2[:,:,0:1], b_upper2[:,:,1:2]\n",
    "x_lower, t_lower = b_lower2[:,:,0:1], b_lower2[:,:,1:2]"
   ]
  },
  {
   "cell_type": "code",
   "execution_count": 16,
   "metadata": {},
   "outputs": [
    {
     "data": {
      "text/plain": [
       "array([[[0.00000000e+00, 0.00000000e+00],\n",
       "        [0.00000000e+00, 1.00000000e-03],\n",
       "        [0.00000000e+00, 2.00000000e-03],\n",
       "        [0.00000000e+00, 3.00000000e-03]],\n",
       "\n",
       "       [[3.14159265e+00, 0.00000000e+00],\n",
       "        [3.14159265e+00, 1.00000000e-03],\n",
       "        [3.14159265e+00, 2.00000000e-03],\n",
       "        [3.14159265e+00, 3.00000000e-03]],\n",
       "\n",
       "       [[6.28318531e+00, 0.00000000e+00],\n",
       "        [6.28318531e+00, 1.00000000e-03],\n",
       "        [6.28318531e+00, 2.00000000e-03],\n",
       "        [6.28318531e+00, 3.00000000e-03]],\n",
       "\n",
       "       [[0.00000000e+00, 5.00000000e-01],\n",
       "        [0.00000000e+00, 5.01000000e-01],\n",
       "        [0.00000000e+00, 5.02000000e-01],\n",
       "        [0.00000000e+00, 5.03000000e-01]],\n",
       "\n",
       "       [[3.14159265e+00, 5.00000000e-01],\n",
       "        [3.14159265e+00, 5.01000000e-01],\n",
       "        [3.14159265e+00, 5.02000000e-01],\n",
       "        [3.14159265e+00, 5.03000000e-01]],\n",
       "\n",
       "       [[6.28318531e+00, 5.00000000e-01],\n",
       "        [6.28318531e+00, 5.01000000e-01],\n",
       "        [6.28318531e+00, 5.02000000e-01],\n",
       "        [6.28318531e+00, 5.03000000e-01]],\n",
       "\n",
       "       [[0.00000000e+00, 1.00000000e+00],\n",
       "        [0.00000000e+00, 1.00100000e+00],\n",
       "        [0.00000000e+00, 1.00200000e+00],\n",
       "        [0.00000000e+00, 1.00300000e+00]],\n",
       "\n",
       "       [[3.14159265e+00, 1.00000000e+00],\n",
       "        [3.14159265e+00, 1.00100000e+00],\n",
       "        [3.14159265e+00, 1.00200000e+00],\n",
       "        [3.14159265e+00, 1.00300000e+00]],\n",
       "\n",
       "       [[6.28318531e+00, 1.00000000e+00],\n",
       "        [6.28318531e+00, 1.00100000e+00],\n",
       "        [6.28318531e+00, 1.00200000e+00],\n",
       "        [6.28318531e+00, 1.00300000e+00]]])"
      ]
     },
     "execution_count": 16,
     "metadata": {},
     "output_type": "execute_result"
    }
   ],
   "source": [
    "res2"
   ]
  },
  {
   "cell_type": "code",
   "execution_count": 10,
   "metadata": {},
   "outputs": [
    {
     "data": {
      "text/plain": [
       "(9, 4, 2)"
      ]
     },
     "execution_count": 10,
     "metadata": {},
     "output_type": "execute_result"
    }
   ],
   "source": [
    "res2.shape"
   ]
  },
  {
   "cell_type": "code",
   "execution_count": 12,
   "metadata": {},
   "outputs": [],
   "source": [
    "mesh, boundaries = generate_mesh_object((3,3), domain=[[0,2*np.pi], [0,1]], device=\"cpu\", full_requires_grad=True, border_requires_grad=False)\n",
    "\n",
    "b_left = boundaries[0][0]\n",
    "b_right = boundaries[0][1]\n",
    "initial = boundaries[1][0]"
   ]
  },
  {
   "cell_type": "code",
   "execution_count": 13,
   "metadata": {},
   "outputs": [
    {
     "data": {
      "text/plain": [
       "tensor([[0.0000, 0.0000],\n",
       "        [0.0000, 0.5000],\n",
       "        [0.0000, 1.0000],\n",
       "        [3.1416, 0.0000],\n",
       "        [3.1416, 0.5000],\n",
       "        [3.1416, 1.0000],\n",
       "        [6.2832, 0.0000],\n",
       "        [6.2832, 0.5000],\n",
       "        [6.2832, 1.0000]], grad_fn=<CatBackward0>)"
      ]
     },
     "execution_count": 13,
     "metadata": {},
     "output_type": "execute_result"
    }
   ],
   "source": [
    "mesh.full"
   ]
  },
  {
   "cell_type": "code",
   "execution_count": 37,
   "metadata": {},
   "outputs": [],
   "source": [
    "def meshify_sequence(l, device, requires_grad = False, num_steps = 1, step_size = 0.0):\n",
    "    temp_np_mesh = np.array(list(product(*l)))\n",
    "    # if sequence is desired\n",
    "    if num_steps > 1:\n",
    "        temp_np_mesh = make_temporal_sequence(temp_np_mesh, num_step=num_steps, step=step_size)\n",
    "    \n",
    "    \n",
    "    print(temp)\n",
    "    temp_seq = make_temporal_sequence(temp)\n",
    "    print(temp_seq)\n",
    "    #seq_parts = [torch.tensor(part, requires_grad = requires_grad, dtype=torch.get_default_dtype()).to(device) for part in np.array_split(temp_seq)]\n",
    "    parts = [torch.tensor(part, requires_grad = requires_grad, dtype=torch.get_default_dtype()).to(device) for part in np.array_split(np.array(list(product(*l))), 2, 1)]\n",
    "    full = torch.cat(parts, dim=1)\n",
    "    return Mesh(full, parts)\n",
    "\n",
    "def generate_mesh_sequence(point_counts, domain, skew = None, device = 'cpu', full_requires_grad = True, border_requires_grad = False):\n",
    "    if isinstance(point_counts, int):\n",
    "        point_counts = [point_counts]\n",
    "        domain = [domain]\n",
    "\n",
    "    if skew:\n",
    "        full_list = [np.linspace(0, 1, count) for i, count in enumerate(point_counts)]\n",
    "        full_list = [points ** skew[i] for i, points in enumerate(full_list)]\n",
    "        full_list = [domain[i][0] + (domain[i][1] - domain[i][0]) * points for i,points in enumerate(full_list)]\n",
    "    else:\n",
    "        full_list = [np.linspace(domain[i][0], domain[i][1], count) for i, count in enumerate(point_counts)]\n",
    "    \n",
    "    #t_list = []\n",
    "    #for t_value in full_list[1]:\n",
    "    #    for i in range(5):\n",
    "    #        t_list.append(t_value+i*1e-4)\n",
    "    \n",
    "    #full_list[1] = np.array(t_list)\n",
    "\n",
    "    print(full_list)\n",
    "\n",
    "    full_mesh = meshify(full_list, device, full_requires_grad)\n",
    "    \n",
    "    #border_lists = [(copy(full_list), copy(full_list)) for _ in full_list]\n",
    "    #for i, _ in enumerate(full_list):\n",
    "    #    border_lists[i][0][i] = [float(domain[i][0])]\n",
    "    #    border_lists[i][1][i] = [float(domain[i][1])]\n",
    "    #border_meshes = [(meshify(border[0], device, border_requires_grad), meshify(border[1], device, border_requires_grad)) for border in border_lists]\n",
    "    \n",
    "    return full_mesh, full_list#, border_meshes"
   ]
  },
  {
   "cell_type": "code",
   "execution_count": 38,
   "metadata": {},
   "outputs": [
    {
     "name": "stdout",
     "output_type": "stream",
     "text": [
      "[array([0.        , 3.14159265, 6.28318531]), array([0. , 0.5, 1. ])]\n"
     ]
    }
   ],
   "source": [
    "full_list, np_list = generate_mesh_sequence((3,3), domain=[[0,2*np.pi], [0,1]], device=\"cpu\", full_requires_grad=True, border_requires_grad=False)"
   ]
  },
  {
   "cell_type": "code",
   "execution_count": 39,
   "metadata": {},
   "outputs": [
    {
     "data": {
      "text/plain": [
       "[array([0.        , 3.14159265, 6.28318531]), array([0. , 0.5, 1. ])]"
      ]
     },
     "execution_count": 39,
     "metadata": {},
     "output_type": "execute_result"
    }
   ],
   "source": [
    "np_list"
   ]
  },
  {
   "cell_type": "code",
   "execution_count": 40,
   "metadata": {},
   "outputs": [],
   "source": [
    "array = np.array(list(product(*np_list)))"
   ]
  },
  {
   "cell_type": "code",
   "execution_count": 44,
   "metadata": {},
   "outputs": [
    {
     "data": {
      "text/plain": [
       "(9, 2)"
      ]
     },
     "execution_count": 44,
     "metadata": {},
     "output_type": "execute_result"
    }
   ],
   "source": [
    "array.shape"
   ]
  },
  {
   "cell_type": "code",
   "execution_count": 45,
   "metadata": {},
   "outputs": [],
   "source": [
    "sequences = make_temporal_sequence(array)"
   ]
  },
  {
   "cell_type": "code",
   "execution_count": 46,
   "metadata": {},
   "outputs": [
    {
     "data": {
      "text/plain": [
       "2"
      ]
     },
     "execution_count": 46,
     "metadata": {},
     "output_type": "execute_result"
    }
   ],
   "source": [
    "len(sequences.shape)-1"
   ]
  },
  {
   "cell_type": "code",
   "execution_count": 47,
   "metadata": {},
   "outputs": [],
   "source": [
    "sequence_split = np.array_split(sequences, 2, -1)"
   ]
  },
  {
   "cell_type": "code",
   "execution_count": 48,
   "metadata": {},
   "outputs": [
    {
     "data": {
      "text/plain": [
       "[array([[[0.        ],\n",
       "         [0.        ],\n",
       "         [0.        ],\n",
       "         [0.        ],\n",
       "         [0.        ]],\n",
       " \n",
       "        [[0.        ],\n",
       "         [0.        ],\n",
       "         [0.        ],\n",
       "         [0.        ],\n",
       "         [0.        ]],\n",
       " \n",
       "        [[0.        ],\n",
       "         [0.        ],\n",
       "         [0.        ],\n",
       "         [0.        ],\n",
       "         [0.        ]],\n",
       " \n",
       "        [[3.14159265],\n",
       "         [3.14159265],\n",
       "         [3.14159265],\n",
       "         [3.14159265],\n",
       "         [3.14159265]],\n",
       " \n",
       "        [[3.14159265],\n",
       "         [3.14159265],\n",
       "         [3.14159265],\n",
       "         [3.14159265],\n",
       "         [3.14159265]],\n",
       " \n",
       "        [[3.14159265],\n",
       "         [3.14159265],\n",
       "         [3.14159265],\n",
       "         [3.14159265],\n",
       "         [3.14159265]],\n",
       " \n",
       "        [[6.28318531],\n",
       "         [6.28318531],\n",
       "         [6.28318531],\n",
       "         [6.28318531],\n",
       "         [6.28318531]],\n",
       " \n",
       "        [[6.28318531],\n",
       "         [6.28318531],\n",
       "         [6.28318531],\n",
       "         [6.28318531],\n",
       "         [6.28318531]],\n",
       " \n",
       "        [[6.28318531],\n",
       "         [6.28318531],\n",
       "         [6.28318531],\n",
       "         [6.28318531],\n",
       "         [6.28318531]]]),\n",
       " array([[[0.0000e+00],\n",
       "         [1.0000e-04],\n",
       "         [2.0000e-04],\n",
       "         [3.0000e-04],\n",
       "         [4.0000e-04]],\n",
       " \n",
       "        [[5.0000e-01],\n",
       "         [5.0010e-01],\n",
       "         [5.0020e-01],\n",
       "         [5.0030e-01],\n",
       "         [5.0040e-01]],\n",
       " \n",
       "        [[1.0000e+00],\n",
       "         [1.0001e+00],\n",
       "         [1.0002e+00],\n",
       "         [1.0003e+00],\n",
       "         [1.0004e+00]],\n",
       " \n",
       "        [[0.0000e+00],\n",
       "         [1.0000e-04],\n",
       "         [2.0000e-04],\n",
       "         [3.0000e-04],\n",
       "         [4.0000e-04]],\n",
       " \n",
       "        [[5.0000e-01],\n",
       "         [5.0010e-01],\n",
       "         [5.0020e-01],\n",
       "         [5.0030e-01],\n",
       "         [5.0040e-01]],\n",
       " \n",
       "        [[1.0000e+00],\n",
       "         [1.0001e+00],\n",
       "         [1.0002e+00],\n",
       "         [1.0003e+00],\n",
       "         [1.0004e+00]],\n",
       " \n",
       "        [[0.0000e+00],\n",
       "         [1.0000e-04],\n",
       "         [2.0000e-04],\n",
       "         [3.0000e-04],\n",
       "         [4.0000e-04]],\n",
       " \n",
       "        [[5.0000e-01],\n",
       "         [5.0010e-01],\n",
       "         [5.0020e-01],\n",
       "         [5.0030e-01],\n",
       "         [5.0040e-01]],\n",
       " \n",
       "        [[1.0000e+00],\n",
       "         [1.0001e+00],\n",
       "         [1.0002e+00],\n",
       "         [1.0003e+00],\n",
       "         [1.0004e+00]]])]"
      ]
     },
     "execution_count": 48,
     "metadata": {},
     "output_type": "execute_result"
    }
   ],
   "source": [
    "sequence_split"
   ]
  },
  {
   "cell_type": "code",
   "execution_count": 49,
   "metadata": {},
   "outputs": [],
   "source": [
    "parts = [torch.tensor(part, requires_grad = False, dtype=torch.get_default_dtype()).to('cpu') for part in sequence_split]"
   ]
  },
  {
   "cell_type": "code",
   "execution_count": 51,
   "metadata": {},
   "outputs": [
    {
     "data": {
      "text/plain": [
       "[tensor([[[0.0000],\n",
       "          [0.0000],\n",
       "          [0.0000],\n",
       "          [0.0000],\n",
       "          [0.0000]],\n",
       " \n",
       "         [[0.0000],\n",
       "          [0.0000],\n",
       "          [0.0000],\n",
       "          [0.0000],\n",
       "          [0.0000]],\n",
       " \n",
       "         [[0.0000],\n",
       "          [0.0000],\n",
       "          [0.0000],\n",
       "          [0.0000],\n",
       "          [0.0000]],\n",
       " \n",
       "         [[3.1416],\n",
       "          [3.1416],\n",
       "          [3.1416],\n",
       "          [3.1416],\n",
       "          [3.1416]],\n",
       " \n",
       "         [[3.1416],\n",
       "          [3.1416],\n",
       "          [3.1416],\n",
       "          [3.1416],\n",
       "          [3.1416]],\n",
       " \n",
       "         [[3.1416],\n",
       "          [3.1416],\n",
       "          [3.1416],\n",
       "          [3.1416],\n",
       "          [3.1416]],\n",
       " \n",
       "         [[6.2832],\n",
       "          [6.2832],\n",
       "          [6.2832],\n",
       "          [6.2832],\n",
       "          [6.2832]],\n",
       " \n",
       "         [[6.2832],\n",
       "          [6.2832],\n",
       "          [6.2832],\n",
       "          [6.2832],\n",
       "          [6.2832]],\n",
       " \n",
       "         [[6.2832],\n",
       "          [6.2832],\n",
       "          [6.2832],\n",
       "          [6.2832],\n",
       "          [6.2832]]]),\n",
       " tensor([[[0.0000e+00],\n",
       "          [1.0000e-04],\n",
       "          [2.0000e-04],\n",
       "          [3.0000e-04],\n",
       "          [4.0000e-04]],\n",
       " \n",
       "         [[5.0000e-01],\n",
       "          [5.0010e-01],\n",
       "          [5.0020e-01],\n",
       "          [5.0030e-01],\n",
       "          [5.0040e-01]],\n",
       " \n",
       "         [[1.0000e+00],\n",
       "          [1.0001e+00],\n",
       "          [1.0002e+00],\n",
       "          [1.0003e+00],\n",
       "          [1.0004e+00]],\n",
       " \n",
       "         [[0.0000e+00],\n",
       "          [1.0000e-04],\n",
       "          [2.0000e-04],\n",
       "          [3.0000e-04],\n",
       "          [4.0000e-04]],\n",
       " \n",
       "         [[5.0000e-01],\n",
       "          [5.0010e-01],\n",
       "          [5.0020e-01],\n",
       "          [5.0030e-01],\n",
       "          [5.0040e-01]],\n",
       " \n",
       "         [[1.0000e+00],\n",
       "          [1.0001e+00],\n",
       "          [1.0002e+00],\n",
       "          [1.0003e+00],\n",
       "          [1.0004e+00]],\n",
       " \n",
       "         [[0.0000e+00],\n",
       "          [1.0000e-04],\n",
       "          [2.0000e-04],\n",
       "          [3.0000e-04],\n",
       "          [4.0000e-04]],\n",
       " \n",
       "         [[5.0000e-01],\n",
       "          [5.0010e-01],\n",
       "          [5.0020e-01],\n",
       "          [5.0030e-01],\n",
       "          [5.0040e-01]],\n",
       " \n",
       "         [[1.0000e+00],\n",
       "          [1.0001e+00],\n",
       "          [1.0002e+00],\n",
       "          [1.0003e+00],\n",
       "          [1.0004e+00]]])]"
      ]
     },
     "execution_count": 51,
     "metadata": {},
     "output_type": "execute_result"
    }
   ],
   "source": [
    "parts"
   ]
  },
  {
   "cell_type": "code",
   "execution_count": 52,
   "metadata": {},
   "outputs": [],
   "source": [
    "full = torch.cat(parts, dim=-1)"
   ]
  },
  {
   "cell_type": "code",
   "execution_count": 53,
   "metadata": {},
   "outputs": [
    {
     "data": {
      "text/plain": [
       "tensor([[[0.0000e+00, 0.0000e+00],\n",
       "         [0.0000e+00, 1.0000e-04],\n",
       "         [0.0000e+00, 2.0000e-04],\n",
       "         [0.0000e+00, 3.0000e-04],\n",
       "         [0.0000e+00, 4.0000e-04]],\n",
       "\n",
       "        [[0.0000e+00, 5.0000e-01],\n",
       "         [0.0000e+00, 5.0010e-01],\n",
       "         [0.0000e+00, 5.0020e-01],\n",
       "         [0.0000e+00, 5.0030e-01],\n",
       "         [0.0000e+00, 5.0040e-01]],\n",
       "\n",
       "        [[0.0000e+00, 1.0000e+00],\n",
       "         [0.0000e+00, 1.0001e+00],\n",
       "         [0.0000e+00, 1.0002e+00],\n",
       "         [0.0000e+00, 1.0003e+00],\n",
       "         [0.0000e+00, 1.0004e+00]],\n",
       "\n",
       "        [[3.1416e+00, 0.0000e+00],\n",
       "         [3.1416e+00, 1.0000e-04],\n",
       "         [3.1416e+00, 2.0000e-04],\n",
       "         [3.1416e+00, 3.0000e-04],\n",
       "         [3.1416e+00, 4.0000e-04]],\n",
       "\n",
       "        [[3.1416e+00, 5.0000e-01],\n",
       "         [3.1416e+00, 5.0010e-01],\n",
       "         [3.1416e+00, 5.0020e-01],\n",
       "         [3.1416e+00, 5.0030e-01],\n",
       "         [3.1416e+00, 5.0040e-01]],\n",
       "\n",
       "        [[3.1416e+00, 1.0000e+00],\n",
       "         [3.1416e+00, 1.0001e+00],\n",
       "         [3.1416e+00, 1.0002e+00],\n",
       "         [3.1416e+00, 1.0003e+00],\n",
       "         [3.1416e+00, 1.0004e+00]],\n",
       "\n",
       "        [[6.2832e+00, 0.0000e+00],\n",
       "         [6.2832e+00, 1.0000e-04],\n",
       "         [6.2832e+00, 2.0000e-04],\n",
       "         [6.2832e+00, 3.0000e-04],\n",
       "         [6.2832e+00, 4.0000e-04]],\n",
       "\n",
       "        [[6.2832e+00, 5.0000e-01],\n",
       "         [6.2832e+00, 5.0010e-01],\n",
       "         [6.2832e+00, 5.0020e-01],\n",
       "         [6.2832e+00, 5.0030e-01],\n",
       "         [6.2832e+00, 5.0040e-01]],\n",
       "\n",
       "        [[6.2832e+00, 1.0000e+00],\n",
       "         [6.2832e+00, 1.0001e+00],\n",
       "         [6.2832e+00, 1.0002e+00],\n",
       "         [6.2832e+00, 1.0003e+00],\n",
       "         [6.2832e+00, 1.0004e+00]]])"
      ]
     },
     "execution_count": 53,
     "metadata": {},
     "output_type": "execute_result"
    }
   ],
   "source": [
    "full"
   ]
  },
  {
   "cell_type": "code",
   "execution_count": null,
   "metadata": {},
   "outputs": [],
   "source": []
  },
  {
   "cell_type": "code",
   "execution_count": 26,
   "metadata": {},
   "outputs": [],
   "source": [
    "def make_temporal_sequence(src, num_step=5, step=1e-4):\n",
    "    dim = num_step\n",
    "    src = np.repeat(np.expand_dims(src, axis=1), dim, axis=1)  # (N, L, 2)\n",
    "    for i in range(num_step):\n",
    "        src[:,i,-1] += step*i\n",
    "    return src"
   ]
  },
  {
   "cell_type": "code",
   "execution_count": null,
   "metadata": {},
   "outputs": [],
   "source": []
  }
 ],
 "metadata": {
  "kernelspec": {
   "display_name": "Python 3",
   "language": "python",
   "name": "python3"
  },
  "language_info": {
   "codemirror_mode": {
    "name": "ipython",
    "version": 3
   },
   "file_extension": ".py",
   "mimetype": "text/x-python",
   "name": "python",
   "nbconvert_exporter": "python",
   "pygments_lexer": "ipython3",
   "version": "3.9.2"
  }
 },
 "nbformat": 4,
 "nbformat_minor": 2
}
