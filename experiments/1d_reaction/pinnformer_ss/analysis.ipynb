{
 "cells": [
  {
   "cell_type": "code",
   "execution_count": 1,
   "metadata": {},
   "outputs": [],
   "source": [
    "from pinnsform.util import *\n",
    "from pinnsform.model import PINN, FLS, FLW\n",
    "import os\n",
    "import numpy as np\n",
    "import pandas as pd\n",
    "import matplotlib.pyplot as plt\n",
    "%matplotlib inline"
   ]
  },
  {
   "cell_type": "code",
   "execution_count": 2,
   "metadata": {},
   "outputs": [],
   "source": [
    "base_dir = os.getcwd()\n",
    "experiment_name = \"PINNFORMER_SS\"\n",
    "data51_path = os.path.join(base_dir, 'results', experiment_name, '51')\n",
    "#data101_path = os.path.join(base_dir, 'results', experiment_name, '101')"
   ]
  },
  {
   "cell_type": "code",
   "execution_count": 3,
   "metadata": {},
   "outputs": [],
   "source": [
    "def load_csv_to_numpy(file_path):\n",
    "    df = pd.read_csv(file_path, header=None, index_col=None, sep=\",\")\n",
    "    return np.array(df.values)\n",
    "\n",
    "def histogram(data):\n",
    "    plt.figure(figsize=(8, 6))\n",
    "    # Create a histogram\n",
    "    plt.hist(data, bins=20, edgecolor='black')\n",
    "    plt.title(\"Distribution of First Entry Values\")\n",
    "    plt.xlabel(\"Value\")\n",
    "    plt.ylabel(\"Frequency\")\n",
    "    plt.grid(True)\n",
    "\n",
    "    # Display the plot\n",
    "    plt.show()"
   ]
  },
  {
   "cell_type": "code",
   "execution_count": 4,
   "metadata": {},
   "outputs": [],
   "source": [
    "NUM_SEEDS = 100\n",
    "INIT_SEEDS = np.array(range(NUM_SEEDS))\n",
    "#MODELS = [\"PINN\", \"FLS\", \"FLW\"]"
   ]
  },
  {
   "cell_type": "code",
   "execution_count": 5,
   "metadata": {},
   "outputs": [],
   "source": [
    "def load_full_data(data_path):\n",
    "    data = np.zeros((100, 2))\n",
    "    for i in INIT_SEEDS:\n",
    "        seed_path = os.path.join(data_path, f\"seed_{i}\", \"error.csv\")\n",
    "        dat = load_csv_to_numpy(seed_path)\n",
    "        data[i] = dat[1,:]\n",
    "    return data"
   ]
  },
  {
   "cell_type": "code",
   "execution_count": 6,
   "metadata": {},
   "outputs": [],
   "source": [
    "data51_pinnsformers = load_full_data(data51_path)\n",
    "#data101_pinnsformers = load_full_data(data101_path)"
   ]
  },
  {
   "cell_type": "code",
   "execution_count": 7,
   "metadata": {},
   "outputs": [
    {
     "data": {
      "text/plain": [
       "array([[0.02592042, 0.04817215],\n",
       "       [0.01536564, 0.03070549],\n",
       "       [0.01944252, 0.03932711],\n",
       "       [0.9830585 , 0.9826738 ],\n",
       "       [0.00780361, 0.01461653],\n",
       "       [0.01797332, 0.03446756],\n",
       "       [0.98025066, 0.9799146 ],\n",
       "       [0.97467107, 0.9733233 ],\n",
       "       [0.01488456, 0.02978425],\n",
       "       [0.9815142 , 0.9817647 ],\n",
       "       [0.02011489, 0.03912439],\n",
       "       [0.9788132 , 0.97847444],\n",
       "       [0.01610256, 0.03214947],\n",
       "       [0.01401633, 0.02692109],\n",
       "       [0.9809963 , 0.9801166 ],\n",
       "       [0.97112596, 0.97078556],\n",
       "       [0.01740947, 0.03329491],\n",
       "       [0.0202392 , 0.03887849],\n",
       "       [0.02374908, 0.045157  ],\n",
       "       [0.9804328 , 0.9796411 ],\n",
       "       [0.9790628 , 0.9790664 ],\n",
       "       [0.98123014, 0.9806505 ],\n",
       "       [0.01994184, 0.03996516],\n",
       "       [0.01788515, 0.03245338],\n",
       "       [0.01617575, 0.03112935],\n",
       "       [0.9841484 , 0.9844675 ],\n",
       "       [0.01504634, 0.02810058],\n",
       "       [0.98370165, 0.98338485],\n",
       "       [0.98185843, 0.98149556],\n",
       "       [0.02545633, 0.05052838],\n",
       "       [0.9799424 , 0.9792961 ],\n",
       "       [0.975749  , 0.97651035],\n",
       "       [0.9800132 , 0.97943276],\n",
       "       [0.9791589 , 0.9786163 ],\n",
       "       [0.01567352, 0.02980087],\n",
       "       [0.97843504, 0.9786516 ],\n",
       "       [0.0126082 , 0.02385055],\n",
       "       [0.01459976, 0.02793933],\n",
       "       [0.02078582, 0.03891636],\n",
       "       [0.0164074 , 0.03202617],\n",
       "       [0.01300212, 0.02459589],\n",
       "       [0.98161286, 0.98104274],\n",
       "       [0.02669761, 0.051068  ],\n",
       "       [0.02617361, 0.04880829],\n",
       "       [0.03173148, 0.05859789],\n",
       "       [0.0138247 , 0.02863942],\n",
       "       [0.02691476, 0.05039465],\n",
       "       [0.984488  , 0.98455715],\n",
       "       [0.9853479 , 0.98477596],\n",
       "       [0.9825266 , 0.98216593],\n",
       "       [0.9820718 , 0.9820792 ],\n",
       "       [0.01636229, 0.0321887 ],\n",
       "       [0.9829058 , 0.9820809 ],\n",
       "       [0.0150086 , 0.0301125 ],\n",
       "       [0.01741773, 0.03490008],\n",
       "       [0.02939494, 0.05367811],\n",
       "       [0.9771225 , 0.9761419 ],\n",
       "       [0.01248676, 0.02436637],\n",
       "       [0.01612409, 0.03228984],\n",
       "       [0.01684934, 0.03453399],\n",
       "       [0.0125269 , 0.02384579],\n",
       "       [0.00779581, 0.0156683 ],\n",
       "       [0.03227475, 0.05937025],\n",
       "       [0.9776152 , 0.9772768 ],\n",
       "       [0.01941825, 0.0383647 ],\n",
       "       [0.9787327 , 0.97748995],\n",
       "       [0.01416361, 0.02758663],\n",
       "       [0.01509218, 0.02987975],\n",
       "       [0.9795    , 0.97921634],\n",
       "       [0.03512593, 0.06184965],\n",
       "       [0.01204937, 0.02328099],\n",
       "       [0.9839278 , 0.9844291 ],\n",
       "       [0.01415193, 0.02598767],\n",
       "       [0.98110354, 0.98117834],\n",
       "       [0.9793686 , 0.97852486],\n",
       "       [0.98238313, 0.982138  ],\n",
       "       [0.9827409 , 0.9828153 ],\n",
       "       [0.01540775, 0.02994546],\n",
       "       [0.01859644, 0.03541822],\n",
       "       [0.9806999 , 0.97952557],\n",
       "       [0.97869337, 0.9779286 ],\n",
       "       [0.0311956 , 0.05885007],\n",
       "       [0.01898386, 0.03538754],\n",
       "       [0.97916347, 0.97819906],\n",
       "       [0.02111215, 0.04104643],\n",
       "       [0.97807306, 0.97761536],\n",
       "       [0.9785949 , 0.9791569 ],\n",
       "       [0.01961074, 0.03715403],\n",
       "       [0.01370712, 0.02729321],\n",
       "       [0.9822736 , 0.98065495],\n",
       "       [0.01789177, 0.03415153],\n",
       "       [0.98235923, 0.9818283 ],\n",
       "       [0.02272101, 0.04469989],\n",
       "       [0.0376317 , 0.07093106],\n",
       "       [0.02155021, 0.04202194],\n",
       "       [0.9772193 , 0.97739685],\n",
       "       [0.9779751 , 0.9767225 ],\n",
       "       [0.01339921, 0.02672464],\n",
       "       [0.01453434, 0.02845427],\n",
       "       [0.98021686, 0.97940636]])"
      ]
     },
     "execution_count": 7,
     "metadata": {},
     "output_type": "execute_result"
    }
   ],
   "source": [
    "data51_pinnsformers"
   ]
  },
  {
   "cell_type": "code",
   "execution_count": 9,
   "metadata": {},
   "outputs": [
    {
     "data": {
      "text/plain": [
       "array([[0.01942205, 0.03794157],\n",
       "       [0.01268533, 0.02487991],\n",
       "       [0.01892986, 0.03769682],\n",
       "       [0.9862137 , 0.9874093 ],\n",
       "       [0.97830397, 0.97691524],\n",
       "       [0.01716152, 0.03333702],\n",
       "       [0.04336255, 0.07365856],\n",
       "       [0.72908944, 0.73896587],\n",
       "       [0.01185414, 0.02340047],\n",
       "       [0.08861373, 0.14305374],\n",
       "       [0.0966954 , 0.16375054],\n",
       "       [0.11087296, 0.1764306 ],\n",
       "       [0.01916237, 0.03899243],\n",
       "       [0.07294331, 0.12238456],\n",
       "       [0.10355984, 0.17035641],\n",
       "       [0.13895948, 0.21806042],\n",
       "       [0.01878018, 0.03510835],\n",
       "       [0.08984363, 0.15099837],\n",
       "       [0.01709899, 0.03243392],\n",
       "       [0.08121835, 0.14586197],\n",
       "       [0.08580504, 0.14160213],\n",
       "       [0.08900025, 0.15075523],\n",
       "       [0.01754706, 0.03431773],\n",
       "       [0.012433  , 0.02321282],\n",
       "       [0.01837802, 0.03624394],\n",
       "       [0.03822701, 0.06405279],\n",
       "       [0.0158283 , 0.03081007],\n",
       "       [0.1250225 , 0.1963463 ],\n",
       "       [0.10399292, 0.17175806],\n",
       "       [0.01559624, 0.03053735],\n",
       "       [0.18454126, 0.28003785],\n",
       "       [0.10089242, 0.17441621],\n",
       "       [0.09921839, 0.1707244 ],\n",
       "       [0.07930464, 0.13203593],\n",
       "       [0.01329903, 0.02651315],\n",
       "       [0.06699455, 0.12056334],\n",
       "       [0.07612819, 0.12942177],\n",
       "       [0.01662202, 0.03192426],\n",
       "       [0.09312705, 0.16171543],\n",
       "       [0.0903898 , 0.15281107],\n",
       "       [0.01603358, 0.030052  ],\n",
       "       [0.5801639 , 0.57880557],\n",
       "       [0.07237756, 0.12677784],\n",
       "       [0.20750187, 0.30724037],\n",
       "       [0.27131858, 0.36805072],\n",
       "       [0.01225056, 0.02426626],\n",
       "       [0.01627553, 0.02575197],\n",
       "       [0.06692608, 0.12027087],\n",
       "       [0.05421299, 0.09920512],\n",
       "       [0.03441043, 0.06137982],\n",
       "       [0.10235222, 0.17239167],\n",
       "       [0.01326756, 0.02614274],\n",
       "       [0.1374555 , 0.21165605],\n",
       "       [0.01601268, 0.03177465],\n",
       "       [0.01467637, 0.02881355],\n",
       "       [0.02641583, 0.05027005],\n",
       "       [0.01329869, 0.02461801],\n",
       "       [0.00857505, 0.01764426],\n",
       "       [0.01788726, 0.03524744],\n",
       "       [0.01882289, 0.03581357],\n",
       "       [0.05241814, 0.08912184],\n",
       "       [0.01489423, 0.02944835],\n",
       "       [0.07383681, 0.12902695],\n",
       "       [0.24683575, 0.30827853],\n",
       "       [0.01882191, 0.03772979],\n",
       "       [0.13357492, 0.19979632],\n",
       "       [0.01224578, 0.02385431],\n",
       "       [0.01835008, 0.03660174],\n",
       "       [0.98778516, 0.98836607],\n",
       "       [0.21862483, 0.2976594 ],\n",
       "       [0.01420471, 0.02810052],\n",
       "       [0.07905868, 0.13764566],\n",
       "       [0.01540133, 0.02881147],\n",
       "       [0.04063711, 0.07320062],\n",
       "       [0.05935661, 0.10231277],\n",
       "       [0.04166175, 0.06391811],\n",
       "       [0.0810736 , 0.13715898],\n",
       "       [0.00863859, 0.01694965],\n",
       "       [0.01948869, 0.03725019],\n",
       "       [0.02682375, 0.05046688],\n",
       "       [0.18569642, 0.23911092],\n",
       "       [0.07677136, 0.13045938],\n",
       "       [0.01983434, 0.03739546],\n",
       "       [0.97913796, 0.97797894],\n",
       "       [0.01767371, 0.03544655],\n",
       "       [0.1378207 , 0.20873049],\n",
       "       [0.05929393, 0.10609413],\n",
       "       [0.01450086, 0.02855724],\n",
       "       [0.01763021, 0.03348486],\n",
       "       [0.12642981, 0.19733776],\n",
       "       [0.01353141, 0.02725241],\n",
       "       [0.16665275, 0.22887842],\n",
       "       [0.01648356, 0.03209864],\n",
       "       [0.03108185, 0.05732163],\n",
       "       [0.0612696 , 0.10969927],\n",
       "       [0.06303725, 0.10805663],\n",
       "       [0.07858089, 0.13864098],\n",
       "       [0.01062203, 0.02052829],\n",
       "       [0.01605917, 0.03182482],\n",
       "       [0.03835146, 0.07052784]])"
      ]
     },
     "execution_count": 9,
     "metadata": {},
     "output_type": "execute_result"
    }
   ],
   "source": [
    "data101_pinnsformers"
   ]
  },
  {
   "cell_type": "code",
   "execution_count": 8,
   "metadata": {},
   "outputs": [
    {
     "data": {
      "image/png": "[encoded data removed]",
      "text/plain": [
       "<Figure size 800x600 with 1 Axes>"
      ]
     },
     "metadata": {},
     "output_type": "display_data"
    }
   ],
   "source": [
    "histogram(data51_pinnsformers[:,0])"
   ]
  },
  {
   "cell_type": "code",
   "execution_count": 11,
   "metadata": {},
   "outputs": [
    {
     "data": {
      "image/png": "[encoded data removed]",
      "text/plain": [
       "<Figure size 800x600 with 1 Axes>"
      ]
     },
     "metadata": {},
     "output_type": "display_data"
    }
   ],
   "source": [
    "histogram(data101_pinnsformers[:,0])"
   ]
  },
  {
   "cell_type": "code",
   "execution_count": null,
   "metadata": {},
   "outputs": [],
   "source": []
  }
 ],
 "metadata": {
  "kernelspec": {
   "display_name": "Python 3",
   "language": "python",
   "name": "python3"
  },
  "language_info": {
   "codemirror_mode": {
    "name": "ipython",
    "version": 3
   },
   "file_extension": ".py",
   "mimetype": "text/x-python",
   "name": "python",
   "nbconvert_exporter": "python",
   "pygments_lexer": "ipython3",
   "version": "3.9.2"
  }
 },
 "nbformat": 4,
 "nbformat_minor": 2
}
