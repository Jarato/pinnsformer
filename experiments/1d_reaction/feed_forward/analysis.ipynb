{
 "cells": [
  {
   "cell_type": "code",
   "execution_count": 1,
   "metadata": {},
   "outputs": [],
   "source": [
    "import os\n",
    "import numpy as np\n",
    "import pandas as pd"
   ]
  },
  {
   "cell_type": "code",
   "execution_count": 7,
   "metadata": {},
   "outputs": [],
   "source": [
    "base_dir = os.getcwd()\n",
    "experiment_name = \"THREE_MODELS\"\n",
    "data_path = os.path.join(base_dir, 'results', experiment_name, '32bit')"
   ]
  },
  {
   "cell_type": "code",
   "execution_count": 8,
   "metadata": {},
   "outputs": [],
   "source": [
    "def load_csv_to_numpy(file_path):\n",
    "    df = pd.read_csv(file_path, header=None, index_col=None, sep=\"\\t\")\n",
    "    return np.array(df.values)"
   ]
  },
  {
   "cell_type": "code",
   "execution_count": 5,
   "metadata": {},
   "outputs": [],
   "source": [
    "NUM_SEEDS = 100\n",
    "INIT_SEEDS = np.array(range(NUM_SEEDS))\n",
    "MODELS = [\"FLS\", \"FLW\", \"PINN\"]"
   ]
  },
  {
   "cell_type": "code",
   "execution_count": 6,
   "metadata": {},
   "outputs": [
    {
     "name": "stdout",
     "output_type": "stream",
     "text": [
      "/local/upb/users/p/pauldf/profiles/unix/cs/pinnsformer/experiments/1d_reaction/feed_forward/results/THREE_MODELS/32bit/FLS\n",
      "/local/upb/users/p/pauldf/profiles/unix/cs/pinnsformer/experiments/1d_reaction/feed_forward/results/THREE_MODELS/32bit/FLW\n",
      "/local/upb/users/p/pauldf/profiles/unix/cs/pinnsformer/experiments/1d_reaction/feed_forward/results/THREE_MODELS/32bit/PINN\n"
     ]
    }
   ],
   "source": [
    "for model in MODELS:\n",
    "    model_path = os.path.join(data_path, model)\n",
    "\n",
    "    for i in INIT_SEED:\n",
    "        seed_path = os.path.join(model_path, f\"seed_{i}\")\n",
    "        data = load_csv_to_numpy(seed_path)\n",
    "        print(data)\n",
    "\n",
    "    print(model_path)"
   ]
  },
  {
   "cell_type": "code",
   "execution_count": null,
   "metadata": {},
   "outputs": [],
   "source": []
  }
 ],
 "metadata": {
  "kernelspec": {
   "display_name": "Python 3",
   "language": "python",
   "name": "python3"
  },
  "language_info": {
   "codemirror_mode": {
    "name": "ipython",
    "version": 3
   },
   "file_extension": ".py",
   "mimetype": "text/x-python",
   "name": "python",
   "nbconvert_exporter": "python",
   "pygments_lexer": "ipython3",
   "version": "3.9.2"
  }
 },
 "nbformat": 4,
 "nbformat_minor": 2
}
