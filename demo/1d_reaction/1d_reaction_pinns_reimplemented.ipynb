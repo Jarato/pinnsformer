{
 "cells": [
  {
   "cell_type": "code",
   "execution_count": 1,
   "metadata": {},
   "outputs": [],
   "source": [
    "import numpy as np\n",
    "import torch\n",
    "import os\n",
    "import torch.nn as nn\n",
    "import matplotlib.pyplot as plt\n",
    "import random\n",
    "from torch.optim import LBFGS\n",
    "from tqdm import tqdm\n",
    "from torchviz import make_dot\n",
    "\n",
    "script_dir = os.getcwd()\n",
    "\n",
    "from pinnsform.util import *\n",
    "from pinnsform.model import PINN_base"
   ]
  },
  {
   "cell_type": "code",
   "execution_count": 2,
   "metadata": {},
   "outputs": [],
   "source": [
    "seed = 0\n",
    "np.random.seed(seed)\n",
    "random.seed(seed)\n",
    "torch.manual_seed(seed)\n",
    "torch.cuda.manual_seed(seed)\n",
    "\n",
    "device = 'cuda'"
   ]
  },
  {
   "cell_type": "code",
   "execution_count": 3,
   "metadata": {},
   "outputs": [
    {
     "name": "stderr",
     "output_type": "stream",
     "text": [
      "/upb/users/p/pauldf/profiles/unix/cs/.local/lib/python3.9/site-packages/torch/cuda/__init__.py:611: UserWarning: Can't initialize NVML\n",
      "  warnings.warn(\"Can't initialize NVML\")\n"
     ]
    }
   ],
   "source": [
    "mesh, boundaries = generate_mesh_object((101,101), domain=([0, 2*np.pi], [0, 1]), device=device, full_requires_grad=True, border_requires_grad=False)\n",
    "\n",
    "b_left = boundaries[0][0]\n",
    "b_right = boundaries[0][1]\n",
    "initial = boundaries[1][0]"
   ]
  },
  {
   "cell_type": "code",
   "execution_count": 4,
   "metadata": {},
   "outputs": [],
   "source": [
    "RHO = 5.0\n",
    "\n",
    "def loss_fn(model, mesh, b_left, b_right, initial, initial_values):\n",
    "    # pde\n",
    "    u = f(model, mesh)\n",
    "    pde_residue = df(model, mesh, wrt=1) - RHO*u*(1.0-u)\n",
    "    pde_loss = pde_residue.pow(2).mean()\n",
    "\n",
    "    # boundary\n",
    "    boundary_residue = f(model, b_left) - f(model, b_right)\n",
    "    boundary_loss = boundary_residue.pow(2).mean()\n",
    "\n",
    "    # initial\n",
    "    initial_residue = f(model, initial) - initial_values\n",
    "    initial_loss = initial_residue.pow(2).mean()\n",
    "\n",
    "    return pde_loss, boundary_loss, initial_loss\n",
    "\n",
    "def intial_value_function(x):\n",
    "    return torch.exp(- (x - torch.pi)**2 / (2*(torch.pi/4.0)**2))\n",
    "\n",
    "with torch.no_grad():\n",
    "    initial_values = intial_value_function(initial.part[0])   #torch.exp(- (x_left[:,0] - torch.pi)**2 / (2*(torch.pi/4)**2))\n",
    "\n",
    "loss_function = partial(loss_fn, mesh=mesh, b_left=b_left, b_right=b_right, initial=initial, initial_values=initial_values)"
   ]
  },
  {
   "cell_type": "code",
   "execution_count": 5,
   "metadata": {},
   "outputs": [],
   "source": [
    "#res, b_left, b_right, b_upper, b_lower = get_data([0,2*np.pi], [0,1], 101, 101)\n",
    "#res_test, _, _, _, _ = get_data([0,2*np.pi], [0,1], 101, 101)\n",
    "\n",
    "#res = torch.tensor(res, dtype=torch.float32, requires_grad=True).to(device)\n",
    "#b_left = torch.tensor(b_left, dtype=torch.float32, requires_grad=True).to(device)\n",
    "#b_right = torch.tensor(b_right, dtype=torch.float32, requires_grad=True).to(device)\n",
    "#b_upper = torch.tensor(b_upper, dtype=torch.float32, requires_grad=True).to(device)\n",
    "#b_lower = torch.tensor(b_lower, dtype=torch.float32, requires_grad=True).to(device)\n",
    "\n",
    "#x_res, t_res = res[:,0:1], res[:,1:2]\n",
    "#x_left, t_left = b_left[:,0:1], b_left[:,1:2]\n",
    "#x_right, t_right = b_right[:,0:1], b_right[:,1:2]\n",
    "#x_upper, t_upper = b_upper[:,0:1], b_upper[:,1:2]\n",
    "#x_lower, t_lower = b_lower[:,0:1], b_lower[:,1:2]\n",
    "\n",
    "def init_weights(m):\n",
    "    if isinstance(m, nn.Linear):\n",
    "        torch.nn.init.xavier_uniform_(m.weight)\n",
    "        m.bias.data.fill_(0.01)"
   ]
  },
  {
   "cell_type": "code",
   "execution_count": 6,
   "metadata": {},
   "outputs": [
    {
     "name": "stdout",
     "output_type": "stream",
     "text": [
      "PINN_base(\n",
      "  (linear): Sequential(\n",
      "    (0): Linear(in_features=2, out_features=512, bias=True)\n",
      "    (1): Tanh()\n",
      "    (2): Linear(in_features=512, out_features=512, bias=True)\n",
      "    (3): Tanh()\n",
      "    (4): Linear(in_features=512, out_features=512, bias=True)\n",
      "    (5): Tanh()\n",
      "    (6): Linear(in_features=512, out_features=1, bias=True)\n",
      "  )\n",
      ")\n",
      "527361\n"
     ]
    }
   ],
   "source": [
    "# Train PINNs \n",
    "\n",
    "model = PINN_base(in_dim=2, hidden_dim=512, out_dim=1, num_layer=4).to(device)\n",
    "\n",
    "model.apply(init_weights)\n",
    "optim = LBFGS(model.parameters(), line_search_fn='strong_wolfe')\n",
    "\n",
    "print(model)\n",
    "print(get_n_params(model))"
   ]
  },
  {
   "cell_type": "code",
   "execution_count": 7,
   "metadata": {},
   "outputs": [
    {
     "name": "stderr",
     "output_type": "stream",
     "text": [
      "100%|██████████| 500/500 [07:55<00:00,  1.05it/s] \n"
     ]
    }
   ],
   "source": [
    "loss_track = []\n",
    "\n",
    "for i in tqdm(range(500)):\n",
    "    def closure():\n",
    "        loss_pde, loss_bc, loss_ic = loss_function(model)\n",
    "        \n",
    "        loss_track.append([loss_pde.item(), loss_bc.item(), loss_ic.item()])\n",
    "\n",
    "        loss = loss_pde + loss_bc + loss_ic\n",
    "\n",
    "        #graph = make_dot(loss)\n",
    "        #graph.save(os.path.join(script_dir, f\"graph_pinn_new_epoch_{i}.dot\"))\n",
    "\n",
    "        optim.zero_grad()\n",
    "        loss.backward()\n",
    "        return loss\n",
    "\n",
    "    optim.step(closure)"
   ]
  },
  {
   "cell_type": "code",
   "execution_count": 8,
   "metadata": {},
   "outputs": [
    {
     "name": "stdout",
     "output_type": "stream",
     "text": [
      "Loss Res: 0.019411, Loss_BC: 0.000006, Loss_IC: 0.179779\n",
      "Train Loss: 0.199195\n"
     ]
    }
   ],
   "source": [
    "print('Loss Res: {:4f}, Loss_BC: {:4f}, Loss_IC: {:4f}'.format(loss_track[-1][0], loss_track[-1][1], loss_track[-1][2]))\n",
    "print('Train Loss: {:4f}'.format(np.sum(loss_track[-1])))\n",
    "\n",
    "torch.save(model.state_dict(), './1dreaction_pinns.pt')"
   ]
  },
  {
   "cell_type": "code",
   "execution_count": null,
   "metadata": {},
   "outputs": [],
   "source": []
  },
  {
   "cell_type": "code",
   "execution_count": null,
   "metadata": {},
   "outputs": [],
   "source": [
    "# Visualize PINNs \n",
    "res_test = torch.tensor(res_test, dtype=torch.float32, requires_grad=True).to(device)\n",
    "x_test, t_test = res_test[:,0:1], res_test[:,1:2]\n",
    "\n",
    "with torch.no_grad():\n",
    "    pred = model(x_test, t_test)[:,0:1]\n",
    "    pred = pred.cpu().detach().numpy()\n",
    "\n",
    "pred = pred.reshape(101,101)\n",
    "\n",
    "def h(x):\n",
    "    return np.exp( - (x-np.pi)**2 / (2 * (np.pi/4)**2))\n",
    "\n",
    "def u_ana(x,t):\n",
    "    return h(x) * np.exp(5*t) / ( h(x) * np.exp(5*t) + 1 - h(x))\n",
    "\n",
    "res_test, _, _, _, _ = get_data([0,2*np.pi], [0,1], 101, 101)\n",
    "u = u_ana(res_test[:,0], res_test[:,1]).reshape(101,101)\n",
    "\n",
    "rl1 = np.sum(np.abs(u-pred)) / np.sum(np.abs(u))\n",
    "rl2 = np.sqrt(np.sum((u-pred)**2) / np.sum(u**2))\n",
    "\n",
    "print('relative L1 error: {:4f}'.format(rl1))\n",
    "print('relative L2 error: {:4f}'.format(rl2))\n",
    "\n",
    "plt.figure(figsize=(4,3))\n",
    "plt.imshow(pred, extent=[0,np.pi*2,1,0], aspect='auto')\n",
    "plt.xlabel('x')\n",
    "plt.ylabel('t')\n",
    "plt.title('Predicted u(x,t)')\n",
    "plt.colorbar()\n",
    "plt.tight_layout()\n",
    "plt.savefig('./1dreaction_pinns_pred.png')\n",
    "plt.show()"
   ]
  },
  {
   "cell_type": "code",
   "execution_count": null,
   "metadata": {},
   "outputs": [],
   "source": [
    "plt.figure(figsize=(4,3))\n",
    "plt.imshow(u, extent=[0,np.pi*2,1,0], aspect='auto')\n",
    "plt.xlabel('x')\n",
    "plt.ylabel('t')\n",
    "plt.title('Exact u(x,t)')\n",
    "plt.colorbar()\n",
    "plt.tight_layout()\n",
    "plt.savefig('./1dreaction_exact.png')\n",
    "plt.show()"
   ]
  },
  {
   "cell_type": "code",
   "execution_count": null,
   "metadata": {},
   "outputs": [],
   "source": [
    "plt.figure(figsize=(4,3))\n",
    "plt.imshow(np.abs(pred - u), extent=[0,np.pi*2,1,0], aspect='auto')\n",
    "plt.xlabel('x')\n",
    "plt.ylabel('t')\n",
    "plt.title('Absolute Error')\n",
    "plt.colorbar()\n",
    "plt.tight_layout()\n",
    "plt.savefig('./1dreaction_pinns_error.png')\n",
    "plt.show()"
   ]
  }
 ],
 "metadata": {
  "kernelspec": {
   "display_name": "base",
   "language": "python",
   "name": "python3"
  },
  "language_info": {
   "codemirror_mode": {
    "name": "ipython",
    "version": 3
   },
   "file_extension": ".py",
   "mimetype": "text/x-python",
   "name": "python",
   "nbconvert_exporter": "python",
   "pygments_lexer": "ipython3",
   "version": "3.9.2"
  },
  "orig_nbformat": 4
 },
 "nbformat": 4,
 "nbformat_minor": 2
}
